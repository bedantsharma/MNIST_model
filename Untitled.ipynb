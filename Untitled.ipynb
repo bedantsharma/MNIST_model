{
 "cells": [
  {
   "cell_type": "code",
   "execution_count": 127,
   "id": "f2b09fcb",
   "metadata": {},
   "outputs": [],
   "source": [
    "import os\n",
    "import cv2\n",
    "import tensorflow as tf\n",
    "from tensorflow import keras \n"
   ]
  },
  {
   "cell_type": "code",
   "execution_count": 128,
   "id": "1b1f7a80",
   "metadata": {},
   "outputs": [],
   "source": [
    "import numpy as np\n",
    "from matplotlib import pyplot as plt\n",
    "\n",
    "from tensorflow.python.keras.metrics import MeanIoU\n",
    "\n",
    "import random"
   ]
  },
  {
   "cell_type": "code",
   "execution_count": 129,
   "id": "83d29898",
   "metadata": {},
   "outputs": [
    {
     "name": "stderr",
     "output_type": "stream",
     "text": [
      "/Users/bedantsharma/anaconda3/envs/tensorflow/lib/python3.10/site-packages/sklearn/datasets/_openml.py:968: FutureWarning: The default value of `parser` will change from `'liac-arff'` to `'auto'` in 1.4. You can set `parser='auto'` to silence this warning. Therefore, an `ImportError` will be raised from 1.4 if the dataset is dense and pandas is not installed. Note that the pandas parser may return different data types. See the Notes Section in fetch_openml's API doc for details.\n",
      "  warn(\n"
     ]
    }
   ],
   "source": [
    "# fetching dataset\n",
    "from sklearn.datasets import fetch_openml\n",
    "import matplotlib\n",
    "import matplotlib.pyplot as plt\n",
    "import numpy as np\n",
    "from sklearn.linear_model import LogisticRegression\n",
    "from sklearn.model_selection import cross_val_score\n",
    "\n",
    "mnist = fetch_openml('mnist_784')\n"
   ]
  },
  {
   "cell_type": "code",
   "execution_count": 130,
   "id": "09001fb6",
   "metadata": {},
   "outputs": [
    {
     "data": {
      "image/png": "[encoded data removed]",
      "text/plain": [
       "<Figure size 640x480 with 1 Axes>"
      ]
     },
     "metadata": {},
     "output_type": "display_data"
    }
   ],
   "source": [
    "x, y = mnist['data'], mnist['target']\n",
    "\n",
    "some_digit = x.to_numpy()[60000]\n",
    "some_digit_image = some_digit.reshape(28, 28)  # let's reshape to plot it\n",
    "\n",
    "plt.imshow(some_digit_image, cmap=matplotlib.cm.binary,\n",
    "           interpolation='nearest')\n",
    "plt.axis(\"off\")\n",
    "plt.show()\n"
   ]
  },
  {
   "cell_type": "code",
   "execution_count": 131,
   "id": "81161991",
   "metadata": {},
   "outputs": [
    {
     "data": {
      "text/plain": [
       "pandas.core.frame.DataFrame"
      ]
     },
     "execution_count": 131,
     "metadata": {},
     "output_type": "execute_result"
    }
   ],
   "source": [
    "type(x)\n",
    "# type(y)"
   ]
  },
  {
   "cell_type": "code",
   "execution_count": 132,
   "id": "c26548a6",
   "metadata": {},
   "outputs": [
    {
     "data": {
      "text/plain": [
       "count     70000\n",
       "unique       10\n",
       "top           1\n",
       "freq       7877\n",
       "Name: class, dtype: object"
      ]
     },
     "execution_count": 132,
     "metadata": {},
     "output_type": "execute_result"
    }
   ],
   "source": [
    "y.describe()"
   ]
  },
  {
   "cell_type": "code",
   "execution_count": 133,
   "id": "3ea1b187",
   "metadata": {},
   "outputs": [],
   "source": [
    "%matplotlib inline\n",
    "plt.rcParams['image.interpolation'] = 'nearest'\n",
    "plt.rcParams['image.cmap'] = 'gray'\n",
    "\n",
    "%reload_ext autoreload\n",
    "%autoreload 2"
   ]
  },
  {
   "cell_type": "code",
   "execution_count": 134,
   "id": "18a02378",
   "metadata": {},
   "outputs": [],
   "source": [
    "def convert_data_to_arrays(train, test):\n",
    "    # the x values start at the second column\n",
    "    train_x = np.array(train.iloc[:,1:].values)\n",
    "    # they y value is the label, it starts at the first column\n",
    "    train_y = np.array(train.iloc[:,0].values)\n",
    "    # the test data does not have the label\n",
    "    test_x = test.iloc[:,:].values\n",
    "    # generate the test_y return value and initialize with zeros\n",
    "    test_y = np.zeros((test_x.shape[0], 1))\n",
    "    \n",
    "    train_x = train_x.T\n",
    "    train_y = train_y.T\n",
    "    test_x = test_x.T\n",
    "    test_y = test_y.T\n",
    "\n",
    "    ### NOTE:~ train_y is currently a 1d array, needs to be reshaped to 2d\n",
    "    train_y = np.reshape(train_y, (1, -1))\n",
    "\n",
    "    return train_x, train_y, test_x, test_y\n",
    "\n"
   ]
  },
  {
   "cell_type": "code",
   "execution_count": 135,
   "id": "049925d5",
   "metadata": {},
   "outputs": [],
   "source": [
    "def print_images(pixel_array, img_size, num_rows, num_cols, label_array = None):\n",
    "    fig_width = 6 # inches\n",
    "    fig_height = 6 # inches\n",
    "    \n",
    "    ## the above display well for a 3x3 matrix - let's try and scale this\n",
    "    ratio = int(num_rows/num_cols)\n",
    "    if ratio > 1:\n",
    "        fig_height = int(fig_height*ratio)\n",
    "    \n",
    "    fig = plt.figure(figsize=(fig_width,fig_height))\n",
    "\n",
    "    num_pics = pixel_array.shape[1]\n",
    "    pic_idxs = np.arange(num_pics)\n",
    "\n",
    "    # check if we have to sample a subset\n",
    "    if num_rows*num_cols < num_pics:\n",
    "        pic_idxs = np.random.choice(pic_idxs, num_rows*num_cols, replace=False)\n",
    "    \n",
    "    for i, pic_idx in enumerate(pic_idxs):\n",
    "        # reshape the array into a 2d image\n",
    "        tmp_img =pixel_array[:, pic_idx]\n",
    "        tmp_img = np.reshape(tmp_img, img_size)\n",
    "        # add a subplot to the figure at the right location in the grid\n",
    "        tmp_sub = fig.add_subplot(num_rows, num_cols, i + 1)\n",
    "        # NOTE:~ we did not have to scale the numbers, imshow does that\n",
    "        # check for a label\n",
    "        if label_array is not None:\n",
    "            tmp_sub.set_title(\"Label:\" + str(label_array[0, pic_idx]))\n",
    "        tmp_img_plot = plt.imshow(tmp_img)\n",
    "        plt.axis(\"off\")\n",
    "\n",
    "    fig.tight_layout()\n",
    "    plt.show()"
   ]
  },
  {
   "cell_type": "code",
   "execution_count": 136,
   "id": "d8ae7ac3",
   "metadata": {},
   "outputs": [],
   "source": [
    "def split_labeled_idx(data, pct_train=0.6, pct_valid=0.2):\n",
    "    # We need to split data into train/valid/test sets\n",
    "\n",
    "    # figure out the number of train and valid cases\n",
    "    num_split_train = int(pct_train*data.shape[1])\n",
    "    num_split_valid = int(pct_valid*data.shape[1])\n",
    "\n",
    "    # shuffle the indices before splitting\n",
    "    shuffle_idx = np.random.permutation(data.shape[1])\n",
    "\n",
    "    # figure out the indices for the train, valid and test sets\n",
    "    split_train_idx = shuffle_idx[:num_split_train]\n",
    "    split_valid_idx = shuffle_idx[num_split_train:num_split_train + num_split_valid]\n",
    "    split_test_idx = shuffle_idx[num_split_train + num_split_valid:]\n",
    "    return (split_train_idx, split_valid_idx, split_test_idx)"
   ]
  },
  {
   "cell_type": "code",
   "execution_count": 137,
   "id": "97b05d5e",
   "metadata": {},
   "outputs": [],
   "source": [
    "def split_labeled_data(data, split_train_idx, split_valid_idx, split_test_idx):\n",
    "    # split the data with the precalculated indices\n",
    "    return data[:, split_train_idx], data[:, split_valid_idx], data[:, split_test_idx]\n",
    "\n",
    "### NOTE:~ this is a really interesting function - got to figure it out!\n",
    "### It'll work for labels that are numbers from 0 to C-1\n",
    "def convert_to_one_hot(Y, C):\n",
    "    Y = np.eye(C)[Y.reshape(-1)].T\n",
    "    return Y.astype(int)"
   ]
  },
  {
   "cell_type": "code",
   "execution_count": 138,
   "id": "84ac7c1e",
   "metadata": {},
   "outputs": [],
   "source": [
    "def create_submission(predictions):\n",
    "    df = pd.DataFrame(predictions[0,:])\n",
    "    df.index += 1\n",
    "    df.index.names = [\"ImageId\"]\n",
    "    df.columns = [\"Label\"]\n",
    "    df.to_csv(\"../output/submission.csv\", index=True)"
   ]
  },
  {
   "cell_type": "code",
   "execution_count": 139,
   "id": "2b78040e",
   "metadata": {},
   "outputs": [],
   "source": [
    "def sigmoid(Z):\n",
    "    A = 1/(1+np.exp(-Z))\n",
    "    assert(A.shape == Z.shape)\n",
    "    return A\n"
   ]
  },
  {
   "cell_type": "code",
   "execution_count": 140,
   "id": "24a70369",
   "metadata": {},
   "outputs": [],
   "source": [
    "def relu(Z):\n",
    "    A = np.maximum(0,Z)\n",
    "    assert(A.shape == Z.shape)\n",
    "    return A"
   ]
  },
  {
   "cell_type": "code",
   "execution_count": 141,
   "id": "00ac1138",
   "metadata": {},
   "outputs": [],
   "source": [
    "def softmax(Z):\n",
    "    tmp = np.exp(Z)\n",
    "    A = tmp/np.sum(tmp, axis=0)\n",
    "    assert(A.shape == Z.shape)\n",
    "    return A"
   ]
  },
  {
   "cell_type": "code",
   "execution_count": 142,
   "id": "a83d4add",
   "metadata": {},
   "outputs": [],
   "source": [
    "def sigmoid_backward(dA, cache, layer):\n",
    "    Z = cache[\"Z\" + str(layer)]    \n",
    "    s = 1/(1+np.exp(-Z))\n",
    "    dZ = dA * s * (1-s)\n",
    "    assert (dZ.shape == Z.shape)\n",
    "    return dZ\n",
    "\n",
    "def relu_backward(dA, cache, layer):\n",
    "    Z = cache[\"Z\" + str(layer)]\n",
    "    dZ = np.array(dA, copy=True) # creating a copy of dA    \n",
    "    # When z <= 0, you should set dz to 0 as well \n",
    "    dZ[Z <= 0] = 0\n",
    "    assert (dZ.shape == Z.shape)\n",
    "    return dZ\n",
    "\n",
    "def softmax_backward(dA, cache, layer):\n",
    "    Z = cache[\"Z\" + str(layer)]\n",
    "    AL = cache[\"A\" + str(layer)]\n",
    "    Y = cache[\"Y\"]\n",
    "    ##### NOTE: for softmax we need AL and Y because per notes dZ = AL - Y\n",
    "    dZ = AL - Y\n",
    "    assert (dZ.shape == Z.shape)\n",
    "    return dZ"
   ]
  },
  {
   "cell_type": "code",
   "execution_count": 143,
   "id": "5c829841",
   "metadata": {},
   "outputs": [],
   "source": [
    "def calculate_Z(A_prev, W, b):\n",
    "    Z = W.dot(A_prev) + b    \n",
    "    assert(Z.shape == (W.shape[0], A_prev.shape[1]))\n",
    "    return Z\n",
    "\n",
    "### Calculates the activation from the previous activation and params\n",
    "### This is the full forward pass for one layer\n",
    "def calculate_A(Z, activation_type):\n",
    "    if activation_type == \"sigmoid\":\n",
    "        A = sigmoid(Z)\n",
    "    \n",
    "    elif activation_type == \"relu\":\n",
    "        A = relu(Z)\n",
    "    \n",
    "    elif activation_type == \"softmax\":\n",
    "        A = softmax(Z)\n",
    "    \n",
    "    assert (A.shape == Z.shape)\n",
    "    return A"
   ]
  },
  {
   "cell_type": "code",
   "execution_count": 144,
   "id": "2d06f02b",
   "metadata": {},
   "outputs": [],
   "source": [
    "def calculate_partial_derivatives(dA, cache, layer, activation_type):\n",
    "    ### first calculate dZ based on activation type\n",
    "    if activation_type == \"relu\":\n",
    "        dZ = relu_backward(dA, cache, layer)\n",
    "        \n",
    "    elif activation_type == \"sigmoid\":\n",
    "        dZ = sigmoid_backward(dA, cache, layer)\n",
    "    \n",
    "    elif activation_type == \"softmax\":\n",
    "        dZ = softmax_backward(dA, cache, layer)\n",
    "    \n",
    "    ### with dZ calculate remaining derivatives\n",
    "    A_prev = cache[\"A\" + str(layer-1)]\n",
    "    W = cache[\"W\" + str(layer)]\n",
    "    b = cache[\"b\" + str(layer)]\n",
    "    m = A_prev.shape[1]\n",
    "    \n",
    "    dW = 1./m * np.dot(dZ,A_prev.T)\n",
    "    db = 1./m * np.sum(dZ, axis = 1, keepdims = True)\n",
    "    dA_prev = np.dot(W.T,dZ)\n",
    "    \n",
    "    assert (dA_prev.shape == A_prev.shape)\n",
    "    assert (dW.shape == W.shape)\n",
    "    assert (db.shape == b.shape)\n",
    "\n",
    "    return dA_prev, dW, db"
   ]
  },
  {
   "cell_type": "code",
   "execution_count": 145,
   "id": "31428f1a",
   "metadata": {},
   "outputs": [],
   "source": [
    "def initialize_model_params(HYPER_layers, HYPER_W_factor, DEBUG_seed):\n",
    "    parameters = {}\n",
    "    L = len(HYPER_layers) # number of layers in the network\n",
    "\n",
    "    for l in range(1, L):\n",
    "        W_str = \"W\" + str(l)\n",
    "        b_str = \"b\" + str(l)\n",
    "        \n",
    "        # set the seed if it is passed in\n",
    "        if DEBUG_seed is not None:\n",
    "            np.random.seed(DEBUG_seed+l)\n",
    "            \n",
    "        parameters[W_str] = np.random.randn(HYPER_layers[l], \n",
    "                                            HYPER_layers[l-1])*HYPER_W_factor \n",
    "        parameters[b_str] = np.zeros((HYPER_layers[l], 1))\n",
    "        \n",
    "        assert(parameters[W_str].shape == (HYPER_layers[l], HYPER_layers[l-1]))\n",
    "        assert(parameters[b_str].shape == (HYPER_layers[l], 1))\n",
    "\n",
    "    return parameters"
   ]
  },
  {
   "cell_type": "code",
   "execution_count": 146,
   "id": "141cf88d",
   "metadata": {},
   "outputs": [],
   "source": [
    "def update_model_params(params, grads, learning_rate):\n",
    "    L = len(params) // 2 # number of layers in the neural network\n",
    "    for l in range(1, L):\n",
    "        W_str = \"W\" + str(l)\n",
    "        b_str = \"b\" + str(l)\n",
    "        dW_str = \"dW\" + str(l)\n",
    "        db_str = \"db\" + str(l)\n",
    "        \n",
    "        params[W_str] = params[W_str] - learning_rate * grads[dW_str]\n",
    "        params[b_str] = params[b_str] - learning_rate * grads[db_str]\n",
    "        \n",
    "    return params"
   ]
  },
  {
   "cell_type": "code",
   "execution_count": 147,
   "id": "6108740a",
   "metadata": {},
   "outputs": [],
   "source": [
    "def forward_pass(X, parameters, output_unit):\n",
    "    cache = {}\n",
    "    A = X\n",
    "    L = len(parameters) // 2 # number of layers in the neural network\n",
    "    cache[\"A0\"] = X # initialize the cache with the input layer\n",
    "    \n",
    "    # go through all the layers of the unit\n",
    "    for l in range(1, L+1):\n",
    "        activation_type = \"relu\" # for all layers except the output unit\n",
    "        if l == L:\n",
    "            # this is the output unit\n",
    "            activation_type = output_unit\n",
    "            \n",
    "        A_prev = A \n",
    "        W = parameters[\"W\" + str(l)]\n",
    "        b = parameters[\"b\" + str(l)]\n",
    "        Z = calculate_Z(A_prev, W, b)\n",
    "        A = calculate_A(Z, activation_type)\n",
    "        # store the params and activations for backward prop\n",
    "        cache[\"W\" + str(l)] = W\n",
    "        cache[\"b\" + str(l)] = b\n",
    "        cache[\"Z\" + str(l)] = Z\n",
    "        cache[\"A\" + str(l)] = A\n",
    "    \n",
    "    return cache[\"A\" + str(L)], cache"
   ]
  },
  {
   "cell_type": "code",
   "execution_count": 148,
   "id": "a947e039",
   "metadata": {},
   "outputs": [],
   "source": [
    "def compute_cost(AL, Y, output_unit):\n",
    "    m = Y.shape[1] # the number of training examples\n",
    "\n",
    "    #### The last unit is either a sigmoid of softmax\n",
    "    if output_unit == \"sigmoid\":\n",
    "        cost = (1./m) * (-np.dot(Y,np.log(AL).T) - np.dot(1-Y, np.log(1-AL).T))\n",
    "    \n",
    "    elif output_unit == \"softmax\":\n",
    "        # from the lecture notes, we are basically doing an elementwise multiply\n",
    "        # of Y (zeros and ones) with AL (activations coming out of layer L\n",
    "        # and then summing them all up and finally dividing by num training examples\n",
    "        ### NOTE: tmpAL needed because AL was sometimes zero\n",
    "        tmpAL = np.maximum(AL, 1.0e-15)  \n",
    "        cost = (-1./m) * (np.sum(np.multiply(Y, np.log(tmpAL))) + np.sum(np.multiply(1-Y, np.log(1-tmpAL))))\n",
    "    \n",
    "    cost = np.squeeze(cost) # to change the shape of cost\n",
    "    assert(cost.shape == ())\n",
    "\n",
    "    return cost\n",
    "\n",
    "def backward_pass(L, cache, output_unit):\n",
    "    grads = {} # value to be returned\n",
    "\n",
    "    AL = cache[\"A\" + str(L)]\n",
    "    m = AL.shape[1]\n",
    "    Y = cache[\"Y\"]\n",
    "    assert(Y.shape == AL.shape)\n",
    "    \n",
    "    # initialize backward propagation \n",
    "    ### NOTE:~ dAL is not used in the softmax case, only in sigmoid\n",
    "    ### in the future find a way to abstract this out\n",
    "    dAL = - (np.divide(Y, AL) - np.divide(1 - Y, 1 - AL))\n",
    "    grads[\"dA\" + str(L)] = dAL\n",
    "\n",
    "    # calculate the partial derivatives for all the layers\n",
    "    for l in reversed(range(1, L+1)):\n",
    "        activation_type = \"relu\" # for all layers except the output unit\n",
    "        if l == L:\n",
    "            # this is the output unit\n",
    "            activation_type = output_unit\n",
    "            \n",
    "        dA_prev_temp, dW_temp, db_temp = calculate_partial_derivatives(grads[\"dA\" + str(l)], cache, l, activation_type)\n",
    "        grads[\"dA\" + str(l-1)] = dA_prev_temp\n",
    "        grads[\"dW\" + str(l)] = dW_temp\n",
    "        grads[\"db\" + str(l)] = db_temp\n",
    "\n",
    "    return grads\n",
    "\n",
    "########## create mini batches instead of going one example at a time\n",
    "### NOTE:~ This assumes that the data in X and Y have already been shuffled\n",
    "def create_mini_batches(X, Y, mini_batch_size):\n",
    "    mini_batches = []\n",
    "    \n",
    "    num_batches = math.ceil(1.0*X.shape[1]/(mini_batch_size))\n",
    "    \n",
    "    mini_batches_x = np.array_split(X, num_batches, axis=1)\n",
    "    mini_batches_y = np.array_split(Y, num_batches, axis=1)\n",
    "\n",
    "    for min_x, min_y in zip(mini_batches_x, mini_batches_y):\n",
    "        mini_batch = (min_x, min_y)\n",
    "        mini_batches.append(mini_batch)\n",
    "\n",
    "    return mini_batches"
   ]
  },
  {
   "cell_type": "code",
   "execution_count": 149,
   "id": "c67f2f54",
   "metadata": {},
   "outputs": [],
   "source": [
    "def train_model(X, \n",
    "                Y, \n",
    "                HYPER_layers, \n",
    "                HYPER_learning_rate, \n",
    "                HYPER_num_epochs, \n",
    "                HYPER_minibatch_size, \n",
    "                HYPER_W_factor,\n",
    "                DEBUG_seed,\n",
    "                DEBUG_print_cost):\n",
    "    output_unit = \"sigmoid\" # by default this is the choice\n",
    "    if HYPER_layers[-1] > 1:\n",
    "        output_unit = \"softmax\" # we have a softmax unit as the output\n",
    "    \n",
    "    # initalize the parameters\n",
    "    parameters = initialize_model_params(HYPER_layers, \n",
    "                                         HYPER_W_factor, \n",
    "                                         DEBUG_seed)\n",
    "    L = len(parameters) // 2 # number of layers in the neural network\n",
    "    \n",
    "    ### loop through all the epochs\n",
    "    num_minibatches = int(X.shape[1]/HYPER_minibatch_size)\n",
    "    \n",
    "    # variables used for printing\n",
    "    epoch_graph_frequency = 10\n",
    "    costs_size = int(HYPER_num_epochs/epoch_graph_frequency)\n",
    "    costs = np.zeros(costs_size)\n",
    "    \n",
    "    for epoch in range(HYPER_num_epochs):\n",
    "        epoch_cost = 0.\n",
    "    \n",
    "        minibatches = create_mini_batches(X, Y, HYPER_minibatch_size)\n",
    "        \n",
    "        for minibatch in minibatches:\n",
    "            (minibatch_X, minibatch_Y) = minibatch\n",
    "            \n",
    "            # Do the forward pass\n",
    "            AL, cache = forward_pass(minibatch_X, parameters, output_unit)\n",
    "            \n",
    "            # Add Y to the cache - the current minibatch\n",
    "            cache[\"Y\"] = minibatch_Y\n",
    "        \n",
    "            # Compute the cost\n",
    "            minibatch_cost = compute_cost(AL, minibatch_Y, output_unit)\n",
    "    \n",
    "            # Do the backward pass\n",
    "            grads = backward_pass(L, cache, output_unit)\n",
    "            \n",
    "            # Update model parameters\n",
    "            parameters = update_model_params(parameters, grads, HYPER_learning_rate)\n",
    "        \n",
    "            # Update the epoch_cost\n",
    "            epoch_cost += minibatch_cost / num_minibatches\n",
    "                \n",
    "        # Print the cost every 100 epochs\n",
    "        if DEBUG_print_cost and ((epoch == 0) or ((epoch+1) % 100 == 0)):\n",
    "            print (\"Cost after epoch %i: %f\" %(epoch+1, epoch_cost))\n",
    "        if DEBUG_print_cost and epoch % epoch_graph_frequency == 0:\n",
    "            costs_idx = int(epoch/epoch_graph_frequency)\n",
    "            costs[costs_idx] = epoch_cost\n",
    "    \n",
    "    if DEBUG_print_cost:\n",
    "        # plot the cost\n",
    "        plt.plot(np.squeeze(costs))\n",
    "        plt.ylabel('Cost')\n",
    "        plt.xlabel('Epochs (tens)')\n",
    "        plt.title(\"Learning rate =\" + str(HYPER_learning_rate))\n",
    "        plt.show()\n",
    "    \n",
    "    return parameters"
   ]
  },
  {
   "cell_type": "code",
   "execution_count": 150,
   "id": "2388f032",
   "metadata": {},
   "outputs": [],
   "source": [
    "def predict(X, parameters, output_unit):\n",
    "    # go through the forward pass once to get the output\n",
    "    probas, cache = forward_pass(X, parameters, output_unit)\n",
    "\n",
    "    p = None;\n",
    "    \n",
    "    if output_unit == \"sigmoid\":\n",
    "        # convert probas to 0/1 predictions\n",
    "        # shape should be 1,m\n",
    "        p = (probas > 0.5).astype(int)\n",
    "        \n",
    "    elif output_unit == \"softmax\":\n",
    "        p = np.zeros(probas.shape)\n",
    "        # get the indexes of the max values in all columns\n",
    "        tmp_prd_idx = np.argmax(probas, axis = 0)\n",
    "        p[tmp_prd_idx, np.arange(len(tmp_prd_idx))] = 1\n",
    "\n",
    "    return p\n"
   ]
  },
  {
   "cell_type": "code",
   "execution_count": 151,
   "id": "792bfba4",
   "metadata": {},
   "outputs": [],
   "source": [
    "def predict_accuracy(X, Y, parameters, output_unit):\n",
    "    m = X.shape[1]\n",
    "    n = len(parameters) // 2 # number of layers in the neural network\n",
    "    p = predict(X, parameters, output_unit)\n",
    "    \n",
    "    if output_unit == \"sigmoid\":\n",
    "        print(\"Accuracy with Sigmoid: \"  + str(np.sum((p == Y)/m)))\n",
    "        \n",
    "    elif output_unit == \"softmax\":\n",
    "        tmp_p = p.astype(bool)\n",
    "        tmp_y = Y.astype(bool)\n",
    "        print(\"Accuracy with Softmax: \" + str(np.sum((tmp_p & tmp_y)/m)))\n",
    "    return p"
   ]
  },
  {
   "cell_type": "code",
   "execution_count": 152,
   "id": "5e31790c",
   "metadata": {},
   "outputs": [],
   "source": [
    "def print_layer(pixel_array, img_size, num_rows, num_cols):\n",
    "    fig_width = 6 # inches\n",
    "    fig_height = 6 # inches\n",
    "    \n",
    "    ## the above display well for a 3x3 matrix - let's try and scale this\n",
    "    ratio = int(num_rows/num_cols)\n",
    "    if ratio > 1:\n",
    "        fig_height = int(fig_height*ratio)\n",
    "    \n",
    "    fig = plt.figure(figsize=(fig_width, fig_height))\n",
    "\n",
    "    num_pics = pixel_array.shape[1]\n",
    "    pic_idxs = np.arange(num_pics)\n",
    "\n",
    "    # check if we have to sample a subset\n",
    "    if num_rows*num_cols < num_pics:\n",
    "        pic_idxs = np.random.choice(pic_idxs, num_rows*num_cols, replace=False)\n",
    "    \n",
    "    for i, pic_idx in enumerate(pic_idxs):\n",
    "        # reshape the array into a 2d image\n",
    "        tmp_img =pixel_array[:, pic_idx]\n",
    "        tmp_img = np.reshape(tmp_img, img_size)\n",
    "        # add a subplot to the figure at the right location in the grid\n",
    "        tmp_sub = fig.add_subplot(num_rows, num_cols, i + 1)\n",
    "        # NOTE:~ we did not have to scale the numbers, imshow does that\n",
    "        tmp_img_plot = plt.imshow(tmp_img)\n",
    "        plt.axis(\"off\")\n",
    "\n",
    "    fig.tight_layout()\n",
    "    plt.show()"
   ]
  },
  {
   "cell_type": "code",
   "execution_count": 153,
   "id": "68c91e76",
   "metadata": {},
   "outputs": [
    {
     "data": {
      "text/plain": [
       "pandas.core.frame.DataFrame"
      ]
     },
     "execution_count": 153,
     "metadata": {},
     "output_type": "execute_result"
    }
   ],
   "source": [
    "type(x)"
   ]
  },
  {
   "cell_type": "code",
   "execution_count": null,
   "id": "cd0a97e5",
   "metadata": {},
   "outputs": [],
   "source": []
  },
  {
   "cell_type": "code",
   "execution_count": 154,
   "id": "5d4bfcdc",
   "metadata": {},
   "outputs": [
    {
     "name": "stdout",
     "output_type": "stream",
     "text": [
      "Training set shape: (25200, 784) (25200,)\n",
      "Testing set shape: (7000, 784) (7000,)\n"
     ]
    }
   ],
   "source": [
    "from sklearn.model_selection import train_test_split\n",
    "import pandas as pd\n",
    "\n",
    "\n",
    "\n",
    "\n",
    "\n",
    "# Split the dataset into training and testing subsets\n",
    "X_train, X_test, y_train, y_test = train_test_split(x, y, test_size=0.1, random_state=42)\n",
    "X_use, X_dont_use, y_use, y_dontuse = train_test_split(X_train, y_train, test_size=0.6, random_state=42)\n",
    "\n",
    "# The test_size parameter specifies the proportion of the dataset to include in the testing subset.\n",
    "# The random_state parameter ensures reproducibility of the split.\n",
    "\n",
    "# Print the shapes of the resulting subsets\n",
    "print(\"Training set shape:\", X_use.shape, y_use.shape)\n",
    "print(\"Testing set shape:\", X_test.shape, y_test.shape)\n"
   ]
  },
  {
   "cell_type": "code",
   "execution_count": 155,
   "id": "9f9dc471",
   "metadata": {},
   "outputs": [],
   "source": [
    "train = pd.concat([X_train, y], axis=1)\n",
    "test = pd.concat([X_test, y_test], axis=1)\n"
   ]
  },
  {
   "cell_type": "code",
   "execution_count": 156,
   "id": "363ee4bf",
   "metadata": {},
   "outputs": [
    {
     "data": {
      "text/plain": [
       "(70000, 785)"
      ]
     },
     "execution_count": 156,
     "metadata": {},
     "output_type": "execute_result"
    }
   ],
   "source": [
    "train.shape"
   ]
  },
  {
   "cell_type": "code",
   "execution_count": 158,
   "id": "73b6c9a5",
   "metadata": {},
   "outputs": [
    {
     "data": {
      "text/plain": [
       "(7000, 785)"
      ]
     },
     "execution_count": 158,
     "metadata": {},
     "output_type": "execute_result"
    }
   ],
   "source": [
    "test.shape"
   ]
  },
  {
   "cell_type": "code",
   "execution_count": null,
   "id": "cee0465d",
   "metadata": {},
   "outputs": [],
   "source": []
  },
  {
   "cell_type": "code",
   "execution_count": 160,
   "id": "bd3b01ee",
   "metadata": {},
   "outputs": [
    {
     "name": "stdout",
     "output_type": "stream",
     "text": [
      "train.shape:(42000, 785)\n",
      "test.shape:(28000, 784)\n",
      "orig_train_x.shape:(784, 42000)\n",
      "orig_train_y.shape:(1, 42000)\n",
      "orig_test_x.shape:(784, 28000)\n",
      "orig_test_y.shape:(1, 28000)\n"
     ]
    }
   ],
   "source": [
    "from subprocess import check_output\n",
    "\n",
    "train = pd.read_csv(\"train.csv\")\n",
    "test = pd.read_csv(\"test.csv\")\n",
    "\n",
    "# the returned values above are dataframes\n",
    "\n",
    "print(\"train.shape:\" + str(train.shape))\n",
    "print(\"test.shape:\" + str(test.shape))\n",
    "\n",
    "orig_train_x, orig_train_y, orig_test_x, orig_test_y = convert_data_to_arrays(train, test)\n",
    "    \n",
    "print(\"orig_train_x.shape:\" + str(orig_train_x.shape))\n",
    "print(\"orig_train_y.shape:\" + str(orig_train_y.shape))\n",
    "print(\"orig_test_x.shape:\" + str(orig_test_x.shape))\n",
    "print(\"orig_test_y.shape:\" + str(orig_test_y.shape))"
   ]
  },
  {
   "cell_type": "code",
   "execution_count": 161,
   "id": "4d8f613b",
   "metadata": {},
   "outputs": [
    {
     "name": "stdout",
     "output_type": "stream",
     "text": [
      "split_train_x.shape(784, 33600)\n",
      "split_valid_x.shape(784, 4200)\n",
      "split_test_x.shape(784, 4200)\n",
      "split_train_y.shape(1, 33600)\n",
      "split_valid_y.shape(1, 4200)\n",
      "split_test_y.shape(1, 4200)\n"
     ]
    }
   ],
   "source": [
    "pct_split_train = 0.8 #  \n",
    "pct_split_valid = 0.1 # => 0.1 is left for split_test\n",
    "\n",
    "## get the indices\n",
    "(split_train_idx, split_valid_idx, split_test_idx) = split_labeled_idx(orig_train_x, pct_split_train, pct_split_valid)\n",
    "\n",
    "(split_train_x, split_valid_x, split_test_x) = split_labeled_data(orig_train_x, split_train_idx, split_valid_idx, split_test_idx)\n",
    "(split_train_y, split_valid_y, split_test_y) = split_labeled_data(orig_train_y, split_train_idx, split_valid_idx, split_test_idx)\n",
    "\n",
    "print(\"split_train_x.shape\" + str(split_train_x.shape))\n",
    "print(\"split_valid_x.shape\" + str(split_valid_x.shape))\n",
    "print(\"split_test_x.shape\" + str(split_test_x.shape))\n",
    "print(\"split_train_y.shape\" + str(split_train_y.shape))\n",
    "print(\"split_valid_y.shape\" + str(split_valid_y.shape))\n",
    "print(\"split_test_y.shape\" + str(split_test_y.shape))"
   ]
  },
  {
   "cell_type": "code",
   "execution_count": 162,
   "id": "e19b615f",
   "metadata": {},
   "outputs": [
    {
     "data": {
      "image/png": "[encoded data removed]",
      "text/plain": [
       "<Figure size 600x600 with 16 Axes>"
      ]
     },
     "metadata": {},
     "output_type": "display_data"
    }
   ],
   "source": [
    "img_size = (28, 28)\n",
    "\n",
    "print_images(orig_train_x, img_size, 4, 4, orig_train_y)"
   ]
  },
  {
   "cell_type": "code",
   "execution_count": 164,
   "id": "cede501c",
   "metadata": {},
   "outputs": [
    {
     "name": "stdout",
     "output_type": "stream",
     "text": [
      "hot_split_train_y:(10, 33600)\n",
      "hot_split_valid_y:(10, 4200)\n",
      "hot_split_test_y:(10, 4200)\n"
     ]
    }
   ],
   "source": [
    "### define the layers of the neural network\n",
    "softmax_layers = [784, 64, 32, 10]\n",
    "\n",
    "### NOTE:~ the output layer has 10 nodes... this is a softmax unit\n",
    "\n",
    "### we need to convert the *_y data sets to one-hot arrays\n",
    "hot_split_train_y = convert_to_one_hot(split_train_y, 10)\n",
    "hot_split_valid_y = convert_to_one_hot(split_valid_y, 10)\n",
    "hot_split_test_y = convert_to_one_hot(split_test_y, 10)\n",
    "\n",
    "print(\"hot_split_train_y:\" + str(hot_split_train_y.shape))\n",
    "print(\"hot_split_valid_y:\" + str(hot_split_valid_y.shape))\n",
    "print(\"hot_split_test_y:\" + str(hot_split_test_y.shape))"
   ]
  },
  {
   "cell_type": "code",
   "execution_count": 166,
   "id": "0a6b5788",
   "metadata": {},
   "outputs": [],
   "source": [
    "import math"
   ]
  },
  {
   "cell_type": "code",
   "execution_count": 170,
   "id": "a887c81f",
   "metadata": {},
   "outputs": [
    {
     "name": "stdout",
     "output_type": "stream",
     "text": [
      "Cost after epoch 1: 2.230244\n",
      "Cost after epoch 100: 0.072897\n",
      "Cost after epoch 200: 0.024460\n"
     ]
    },
    {
     "data": {
      "image/png": "[encoded data removed]",
      "text/plain": [
       "<Figure size 640x480 with 1 Axes>"
      ]
     },
     "metadata": {},
     "output_type": "display_data"
    }
   ],
   "source": [
    "### train the model\n",
    "softmax_params = train_model(split_train_x, \n",
    "                             hot_split_train_y, \n",
    "                             HYPER_layers=softmax_layers, \n",
    "                             HYPER_learning_rate=0.001, \n",
    "                             HYPER_num_epochs=200, \n",
    "                             HYPER_minibatch_size=32,\n",
    "                             HYPER_W_factor=0.01,\n",
    "                             DEBUG_seed=1,\n",
    "                             DEBUG_print_cost=True)"
   ]
  },
  {
   "cell_type": "markdown",
   "id": "566e54f6",
   "metadata": {},
   "source": [
    "# how we did on test dataset"
   ]
  },
  {
   "cell_type": "code",
   "execution_count": 171,
   "id": "b8c404b6",
   "metadata": {},
   "outputs": [
    {
     "name": "stdout",
     "output_type": "stream",
     "text": [
      "Accuracy with Softmax: 0.9988690476190477\n",
      "First ten original:[7 1 0 3 8 8 4 2 2 0]\n",
      "First ten predicts:[7 1 0 3 8 8 4 2 2 0]\n"
     ]
    }
   ],
   "source": [
    "# get the predictions as an array\n",
    "train_predict_probs = predict_accuracy(split_train_x, \n",
    "                                       hot_split_train_y, \n",
    "                                       softmax_params, \n",
    "                                       \"softmax\")\n",
    "\n",
    "# generate labels from the predictions\n",
    "train_predict_y = np.reshape(np.argmax(train_predict_probs, axis=0), (1, -1))\n",
    "\n",
    "print(\"First ten original:\" + str(split_train_y[0,0:10]))\n",
    "print(\"First ten predicts:\" + str(train_predict_y[0,0:10]))"
   ]
  },
  {
   "cell_type": "code",
   "execution_count": 172,
   "id": "6cd6a03c",
   "metadata": {},
   "outputs": [
    {
     "data": {
      "image/png": "[encoded data removed]",
      "text/plain": [
       "<Figure size 600x600 with 16 Axes>"
      ]
     },
     "metadata": {},
     "output_type": "display_data"
    }
   ],
   "source": [
    "incorrect_idx = (train_predict_y != split_train_y)\n",
    "incorrect_images = split_train_x[:,incorrect_idx[0,:]]\n",
    "incorrect_labels = train_predict_y[:,incorrect_idx[0,:]]\n",
    "print_images(incorrect_images, img_size, 4, 4, incorrect_labels)"
   ]
  },
  {
   "cell_type": "markdown",
   "id": "0b421f38",
   "metadata": {},
   "source": [
    "# how we did on validation dataset"
   ]
  },
  {
   "cell_type": "code",
   "execution_count": 173,
   "id": "2b2b9828",
   "metadata": {},
   "outputs": [
    {
     "name": "stdout",
     "output_type": "stream",
     "text": [
      "Accuracy with Softmax: 0.9638095238095239\n",
      "First ten original:[6 8 7 0 5 9 9 4 7 4]\n",
      "First ten predicts:[6 8 7 0 5 9 9 4 7 4]\n"
     ]
    }
   ],
   "source": [
    "# get the predictions as an array\n",
    "valid_predict_probs = predict_accuracy(split_valid_x, \n",
    "                                       hot_split_valid_y, \n",
    "                                       softmax_params, \n",
    "                                      \"softmax\")\n",
    "\n",
    "# generate labels from the predictions\n",
    "valid_predict_y = np.reshape(np.argmax(valid_predict_probs, axis=0), (1, -1))\n",
    "\n",
    "print(\"First ten original:\" + str(split_valid_y[0,0:10]))\n",
    "print(\"First ten predicts:\" + str(valid_predict_y[0,0:10]))"
   ]
  },
  {
   "cell_type": "code",
   "execution_count": 174,
   "id": "86384591",
   "metadata": {},
   "outputs": [
    {
     "data": {
      "image/png": "[encoded data removed]",
      "text/plain": [
       "<Figure size 600x600 with 16 Axes>"
      ]
     },
     "metadata": {},
     "output_type": "display_data"
    }
   ],
   "source": [
    "incorrect_idx = (valid_predict_y != split_valid_y)\n",
    "incorrect_images = split_valid_x[:,incorrect_idx[0,:]]\n",
    "incorrect_labels = valid_predict_y[:,incorrect_idx[0,:]]\n",
    "print_images(incorrect_images, (28,28), 4, 4, incorrect_labels)"
   ]
  },
  {
   "cell_type": "code",
   "execution_count": null,
   "id": "a0059946",
   "metadata": {},
   "outputs": [],
   "source": [
    " "
   ]
  }
 ],
 "metadata": {
  "kernelspec": {
   "display_name": "Python 3.10 (tensorflow)",
   "language": "python",
   "name": "tensorflow"
  },
  "language_info": {
   "codemirror_mode": {
    "name": "ipython",
    "version": 3
   },
   "file_extension": ".py",
   "mimetype": "text/x-python",
   "name": "python",
   "nbconvert_exporter": "python",
   "pygments_lexer": "ipython3",
   "version": "3.10.11"
  }
 },
 "nbformat": 4,
 "nbformat_minor": 5
}
